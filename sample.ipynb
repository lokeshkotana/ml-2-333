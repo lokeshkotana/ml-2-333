{
 "cells": [
  {
   "cell_type": "code",
   "execution_count": 7,
   "metadata": {},
   "outputs": [],
   "source": [
    "import numpy as np\n",
    "import matplotlib.pyplot as plt\n",
    "import pandas as pd\n",
    "import pickle"
   ]
  },
  {
   "cell_type": "code",
   "execution_count": 8,
   "metadata": {},
   "outputs": [],
   "source": [
    "df = pd.read_csv('insurance.csv')\n",
    "df = df[['age','sex','smoker', 'charges']]\n",
    "df.columns = ['age', 'sex', 'smoker', 'Insurance_Amount']\n"
   ]
  },
  {
   "cell_type": "code",
   "execution_count": 9,
   "metadata": {},
   "outputs": [],
   "source": [
    "df.columns = ['age', 'sex', 'smoker', 'Insurance_Amount']\n",
    "\n",
    "\n"
   ]
  },
  {
   "cell_type": "code",
   "execution_count": 5,
   "metadata": {},
   "outputs": [],
   "source": []
  },
  {
   "cell_type": "code",
   "execution_count": 10,
   "metadata": {},
   "outputs": [
    {
     "output_type": "execute_result",
     "data": {
      "text/plain": "      age     sex smoker  Insurance_Amount\n0      19  female    yes       16884.92400\n1      18    male     no        1725.55230\n2      28    male     no        4449.46200\n3      33    male     no       21984.47061\n4      32    male     no        3866.85520\n...   ...     ...    ...               ...\n1333   50    male     no       10600.54830\n1334   18  female     no        2205.98080\n1335   18  female     no        1629.83350\n1336   21  female     no        2007.94500\n1337   61  female    yes       29141.36030\n\n[1338 rows x 4 columns]",
      "text/html": "<div>\n<style scoped>\n    .dataframe tbody tr th:only-of-type {\n        vertical-align: middle;\n    }\n\n    .dataframe tbody tr th {\n        vertical-align: top;\n    }\n\n    .dataframe thead th {\n        text-align: right;\n    }\n</style>\n<table border=\"1\" class=\"dataframe\">\n  <thead>\n    <tr style=\"text-align: right;\">\n      <th></th>\n      <th>age</th>\n      <th>sex</th>\n      <th>smoker</th>\n      <th>Insurance_Amount</th>\n    </tr>\n  </thead>\n  <tbody>\n    <tr>\n      <td>0</td>\n      <td>19</td>\n      <td>female</td>\n      <td>yes</td>\n      <td>16884.92400</td>\n    </tr>\n    <tr>\n      <td>1</td>\n      <td>18</td>\n      <td>male</td>\n      <td>no</td>\n      <td>1725.55230</td>\n    </tr>\n    <tr>\n      <td>2</td>\n      <td>28</td>\n      <td>male</td>\n      <td>no</td>\n      <td>4449.46200</td>\n    </tr>\n    <tr>\n      <td>3</td>\n      <td>33</td>\n      <td>male</td>\n      <td>no</td>\n      <td>21984.47061</td>\n    </tr>\n    <tr>\n      <td>4</td>\n      <td>32</td>\n      <td>male</td>\n      <td>no</td>\n      <td>3866.85520</td>\n    </tr>\n    <tr>\n      <td>...</td>\n      <td>...</td>\n      <td>...</td>\n      <td>...</td>\n      <td>...</td>\n    </tr>\n    <tr>\n      <td>1333</td>\n      <td>50</td>\n      <td>male</td>\n      <td>no</td>\n      <td>10600.54830</td>\n    </tr>\n    <tr>\n      <td>1334</td>\n      <td>18</td>\n      <td>female</td>\n      <td>no</td>\n      <td>2205.98080</td>\n    </tr>\n    <tr>\n      <td>1335</td>\n      <td>18</td>\n      <td>female</td>\n      <td>no</td>\n      <td>1629.83350</td>\n    </tr>\n    <tr>\n      <td>1336</td>\n      <td>21</td>\n      <td>female</td>\n      <td>no</td>\n      <td>2007.94500</td>\n    </tr>\n    <tr>\n      <td>1337</td>\n      <td>61</td>\n      <td>female</td>\n      <td>yes</td>\n      <td>29141.36030</td>\n    </tr>\n  </tbody>\n</table>\n<p>1338 rows × 4 columns</p>\n</div>"
     },
     "metadata": {},
     "execution_count": 10
    }
   ],
   "source": [
    "df"
   ]
  },
  {
   "cell_type": "code",
   "execution_count": 11,
   "metadata": {},
   "outputs": [],
   "source": [
    "X = df[['age', 'sex', 'smoker']]\n",
    "y = df['Insurance_Amount']"
   ]
  },
  {
   "cell_type": "code",
   "execution_count": 12,
   "metadata": {},
   "outputs": [],
   "source": [
    "# Linear Regression \n",
    "\n",
    "from sklearn.linear_model import LinearRegression\n",
    "regressor = LinearRegression()\n"
   ]
  },
  {
   "cell_type": "code",
   "execution_count": 13,
   "metadata": {},
   "outputs": [
    {
     "output_type": "execute_result",
     "data": {
      "text/plain": "      age  sex_female  sex_male  smoker_no  smoker_yes\n0      19           1         0          0           1\n1      18           0         1          1           0\n2      28           0         1          1           0\n3      33           0         1          1           0\n4      32           0         1          1           0\n...   ...         ...       ...        ...         ...\n1333   50           0         1          1           0\n1334   18           1         0          1           0\n1335   18           1         0          1           0\n1336   21           1         0          1           0\n1337   61           1         0          0           1\n\n[1338 rows x 5 columns]",
      "text/html": "<div>\n<style scoped>\n    .dataframe tbody tr th:only-of-type {\n        vertical-align: middle;\n    }\n\n    .dataframe tbody tr th {\n        vertical-align: top;\n    }\n\n    .dataframe thead th {\n        text-align: right;\n    }\n</style>\n<table border=\"1\" class=\"dataframe\">\n  <thead>\n    <tr style=\"text-align: right;\">\n      <th></th>\n      <th>age</th>\n      <th>sex_female</th>\n      <th>sex_male</th>\n      <th>smoker_no</th>\n      <th>smoker_yes</th>\n    </tr>\n  </thead>\n  <tbody>\n    <tr>\n      <td>0</td>\n      <td>19</td>\n      <td>1</td>\n      <td>0</td>\n      <td>0</td>\n      <td>1</td>\n    </tr>\n    <tr>\n      <td>1</td>\n      <td>18</td>\n      <td>0</td>\n      <td>1</td>\n      <td>1</td>\n      <td>0</td>\n    </tr>\n    <tr>\n      <td>2</td>\n      <td>28</td>\n      <td>0</td>\n      <td>1</td>\n      <td>1</td>\n      <td>0</td>\n    </tr>\n    <tr>\n      <td>3</td>\n      <td>33</td>\n      <td>0</td>\n      <td>1</td>\n      <td>1</td>\n      <td>0</td>\n    </tr>\n    <tr>\n      <td>4</td>\n      <td>32</td>\n      <td>0</td>\n      <td>1</td>\n      <td>1</td>\n      <td>0</td>\n    </tr>\n    <tr>\n      <td>...</td>\n      <td>...</td>\n      <td>...</td>\n      <td>...</td>\n      <td>...</td>\n      <td>...</td>\n    </tr>\n    <tr>\n      <td>1333</td>\n      <td>50</td>\n      <td>0</td>\n      <td>1</td>\n      <td>1</td>\n      <td>0</td>\n    </tr>\n    <tr>\n      <td>1334</td>\n      <td>18</td>\n      <td>1</td>\n      <td>0</td>\n      <td>1</td>\n      <td>0</td>\n    </tr>\n    <tr>\n      <td>1335</td>\n      <td>18</td>\n      <td>1</td>\n      <td>0</td>\n      <td>1</td>\n      <td>0</td>\n    </tr>\n    <tr>\n      <td>1336</td>\n      <td>21</td>\n      <td>1</td>\n      <td>0</td>\n      <td>1</td>\n      <td>0</td>\n    </tr>\n    <tr>\n      <td>1337</td>\n      <td>61</td>\n      <td>1</td>\n      <td>0</td>\n      <td>0</td>\n      <td>1</td>\n    </tr>\n  </tbody>\n</table>\n<p>1338 rows × 5 columns</p>\n</div>"
     },
     "metadata": {},
     "execution_count": 13
    }
   ],
   "source": [
    "X = pd.get_dummies(X)\n",
    "X"
   ]
  },
  {
   "cell_type": "code",
   "execution_count": 14,
   "metadata": {},
   "outputs": [
    {
     "output_type": "execute_result",
     "data": {
      "text/plain": "LinearRegression(copy_X=True, fit_intercept=True, n_jobs=None, normalize=False)"
     },
     "metadata": {},
     "execution_count": 14
    }
   ],
   "source": [
    "regressor.fit(X,y)"
   ]
  },
  {
   "cell_type": "code",
   "execution_count": 15,
   "metadata": {},
   "outputs": [],
   "source": [
    "# Saving model to disk\n",
    "pickle.dump(regressor, open('model.pkl','wb'))\n",
    "\n",
    "# Loading model to compare the results\n",
    "\n",
    "model = pickle.load(open('model.pkl','rb'))\n",
    "# Age, Sex, Smoker\n",
    "#print(model.predict([[20, 'Male', 'No']]))\n"
   ]
  },
  {
   "cell_type": "code",
   "execution_count": 31,
   "metadata": {},
   "outputs": [
    {
     "output_type": "execute_result",
     "data": {
      "text/plain": "array([3146.79240414])"
     },
     "metadata": {},
     "execution_count": 31
    }
   ],
   "source": [
    "#columns = ['age','sex_female',\t'sex_male','smoker_no',#'smoker_yes']\n",
    "data =[]\n",
    "\n",
    "item = [20, 'Male', 'No']\n",
    "    \n",
    "data.append(item[0])\n",
    "if item[1] == 'Male':\n",
    "    data.append(0)\n",
    "    data.append(1)\n",
    "else:\n",
    "    data.append(1)\n",
    "    data.append(0)\n",
    "\n",
    "if item[2] == 'No':\n",
    "    data.append(1)\n",
    "    data.append(0)\n",
    "else:\n",
    "    data.append(0)\n",
    "    data.append(1)\n",
    "\n",
    "# this is single sample\n",
    "model.predict([data])\n",
    "\n"
   ]
  },
  {
   "cell_type": "code",
   "execution_count": null,
   "metadata": {},
   "outputs": [],
   "source": []
  }
 ],
 "metadata": {
  "language_info": {
   "codemirror_mode": {
    "name": "ipython",
    "version": 3
   },
   "file_extension": ".py",
   "mimetype": "text/x-python",
   "name": "python",
   "nbconvert_exporter": "python",
   "pygments_lexer": "ipython3",
   "version": "3.7.4-final"
  },
  "orig_nbformat": 2,
  "kernelspec": {
   "name": "python37464bitbaseconda9daf389af7b44252854232aba3499adc",
   "display_name": "Python 3.7.4 64-bit ('base': conda)"
  }
 },
 "nbformat": 4,
 "nbformat_minor": 2
}